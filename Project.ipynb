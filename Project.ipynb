{
 "cells": [
  {
   "cell_type": "code",
   "execution_count": 3,
   "metadata": {},
   "outputs": [],
   "source": [
    "#Online Publication Record\n",
    "#This GUI will tell about Latest sales of New Newspapers,magazines and books\n",
    "#if anybody wants to see latest sales or gather some information regarding Latest Newspapers,magazines and books can view or see from this GUI\n",
    "from tkinter import *             #this is used to include all methods from tkinter so thatswhy we are using * operator\n",
    "m=Tk()                            #This will be used to create GUI window\n",
    "m.geometry('200x400')           #This method will  used to adjust size of window\n",
    "m.title(\"Online Publication record window\")         #This will provide title to window \n",
    "m.configure(bg='purple')                            #This method will provide background color to window\n",
    "q=Label(m,text=\"Welcome to see the publication record\",bg='white')    #This method will be used to create labels like a statement in window\n",
    "q.grid(row=0,column=10)                                           #This method will be used to adjust your label in rows and columns\n",
    "my=Listbox(m)                                                   #Listbox is used to create a listbox in which we can define many things   \n",
    "my.grid(row=7)\n",
    "my.configure(bg='orange')                                      \n",
    "my.insert(0,'Newspapers')                                       #insert method will be used to insert your elements in listbox\n",
    "my.insert(1,'Magazines')\n",
    "my.insert(2,'Books')\n",
    "g=Listbox(m)\n",
    "g.configure(bg='light blue')\n",
    "g.grid(row=10,column=5)\n",
    "g.insert(0,'Materials sale')\n",
    "g.insert(1,'Magazines 210000')\n",
    "g.insert(2,'Newspaper 7000000')\n",
    "g.insert(3,'Books     10000')\n",
    "Label(m,text=\"enter your choice\",bg=\"white\").grid(row=3,column=11)\n",
    "v1=IntVar()                                                     #These v1,v2,v3 variables will be used to put on and offvalues\n",
    "v2=IntVar()\n",
    "v3=IntVar()\n",
    "c1=Checkbutton(m,text=\"Maga\",variable=v1,onvalue=1,offvalue=0,bg='cyan').grid(row=4,column=11)      #checkbutton will be used to create checkbuttons to select a value\n",
    "c2=Checkbutton(m,text=\"News\",variable=v2,onvalue=1,offvalue=0,bg='cyan').grid(row=5,column=11)\n",
    "c3=Checkbutton(m,text=\"Books\",variable=v3,onvalue=1,offvalue=0,bg='cyan').grid(row=6,column=11)\n",
    "b=Menu(m)                                                               #Menu will be used to create a menu in GUI                                                              \n",
    "m.config(menu=b)\n",
    "filemenu=Menu(b)\n",
    "b.add_cascade(label='File',menu=filemenu)                                #add_cascade is used to add file name and edit name in menu of GUI\n",
    "filemenu.add_command(label='open')                                       #add_command is used to insert values in File of menu\n",
    "filemenu.add_command(label='save as')\n",
    "filemenu.add_separator()\n",
    "filemenu.add_command(label='cut')\n",
    "filemenu.add_command(label='copy')\n",
    "editmenu=Menu(b)\n",
    "b.add_cascade(label='Edit',menu=editmenu)\n",
    "editmenu.add_command(label='Undo')\n",
    "editmenu.add_command(label='Redo')\n",
    "editmenu.add_separator()                                                #add_separator is used to add a separator line  \n",
    "editmenu.add_command(label='Add')\n",
    "editmenu.add_command(label='Cancel')\n",
    "o1=Label(m,text='Username',width=10).grid(row=0,column=0)\n",
    "o2=Label(m,text='Password',width=10).grid(row=1,column=0)\n",
    "u1=Entry(m)                                                             #Entry is used to enter in a text value\n",
    "u1.grid(row=0,column=1)\n",
    "u2=Entry(m)\n",
    "u2.grid(row=1,column=1)\n",
    "def gh():\n",
    "    from tkinter import messagebox\n",
    "    messagebox.showinfo('fill','Username'+u1.get()+'fill Password'+u2.get())    #messagebox with  .showinfo method() will display a messagebox if username and password will not be filled \n",
    "    \n",
    "Button(m,text='Login',command=gh).grid(row=9,column=9)\n",
    "def myf():\n",
    "        z=Tk()\n",
    "        z.geometry('200x400')\n",
    "        z.title(\"Online Publication record window\")\n",
    "        z.configure(bg='light green')\n",
    "        l=Listbox(z)\n",
    "        l.configure(bg='cyan')                    #This function is linked with a button named newspaper when you click on that you will get latest newspapersinformation\n",
    "        l.grid(row=5)\n",
    "        l.insert(0,'Times of India') \n",
    "        l.insert(1,'Dhanik jagran')\n",
    "        l.insert(2,'Dhanik Bhaskar')\n",
    "        l.insert(3,'Tribune')\n",
    "        myl=Canvas(z,width=200,height=150,bg='orange')                #Canvas will give you a canvas in a window\n",
    "        my=myl.create_arc(10,10,100,100,outline='blue',start=0,extent=300,fill='white')     #create_arc is used to create an arc inside canvas\n",
    "        my=myl.create_text(14,10,text='Sales')                                               #create_text is used to create a string in a  canvas\n",
    "        myl.place(relx=0.7,rely=0.1)                                                         #place()method is used to place a canvas with repect to x and y axis\n",
    "        b=Menu(z)\n",
    "        z.config(menu=b)\n",
    "        filemenu=Menu(b)\n",
    "        b.add_cascade(label='File',menu=filemenu)\n",
    "        filemenu.add_command(label='open')\n",
    "        filemenu.add_command(label='save as')\n",
    "        filemenu.add_separator()\n",
    "        filemenu.add_command(label='cut')\n",
    "        filemenu.add_command(label='copy')\n",
    "        editmenu=Menu(b)\n",
    "        b.add_cascade(label='Edit',menu=editmenu)\n",
    "        editmenu.add_command(label='Undo')\n",
    "        editmenu.add_command(label='Redo')\n",
    "        editmenu.add_separator()\n",
    "        editmenu.add_command(label='Add')\n",
    "        editmenu.add_command(label='Cancel')\n",
    "        v1=IntVar()\n",
    "        v2=IntVar()\n",
    "        v3=IntVar()\n",
    "        v4=IntVar()\n",
    "        Label(z,text=\"enter your choice\",bg=\"white\").grid(row=0,column=0)\n",
    "        c1=Checkbutton(z,text=\"TimesofIN\",variable=v1,onvalue=1,offvalue=0,bg='purple',anchor='w').grid(row=1)\n",
    "        c2=Checkbutton(z,text=\"DhanikJAG\",variable=v2,onvalue=1,offvalue=0,bg='purple',anchor='w').grid(row=2)\n",
    "        c3=Checkbutton(z,text=\"DhanikBHA\",variable=v3,onvalue=1,offvalue=0,bg='purple',anchor='w').grid(row=3)\n",
    "        c4=Checkbutton(z,text=\"THETRIBUNE\",variable=v4,onvalue=1,offvalue=0,bg='purple',anchor='w').grid(row=4)\n",
    "def myh():\n",
    "    z=Tk()\n",
    "    z.geometry('200x400')\n",
    "    z.title(\"Online Publication record window\")\n",
    "    z.configure(bg='cyan')\n",
    "    l=Listbox(z)\n",
    "    l.configure(bg='light green')\n",
    "    l.grid(row=6,column=0)\n",
    "    l.insert(0,'Execution')\n",
    "    l.insert(1,'Python')                                #This function is linked with a button named books when you click on that you will get latest books information\n",
    "    l.insert(2,'Physics')\n",
    "    l.insert(3,'Toxin')\n",
    "    b=Menu(z)\n",
    "    z.config(menu=b)\n",
    "    filemenu=Menu(b)\n",
    "    b.add_cascade(label='File',menu=filemenu)\n",
    "    filemenu.add_command(label='open')\n",
    "    filemenu.add_command(label='save as')\n",
    "    filemenu.add_separator()\n",
    "    filemenu.add_command(label='cut')\n",
    "    filemenu.add_command(label='copy')\n",
    "    editmenu=Menu(b)\n",
    "    b.add_cascade(label='Edit',menu=editmenu)\n",
    "    editmenu.add_command(label='Undo')\n",
    "    editmenu.add_command(label='Redo')\n",
    "    editmenu.add_separator()\n",
    "    editmenu.add_command(label='Add')\n",
    "    editmenu.add_command(label='Cancel')\n",
    "    myl=Canvas(z,width=200,height=150,bg='orange')                #Canvas will give you a canvas in a window\n",
    "    my=myl.create_arc(10,10,100,100,outline='blue',start=0,extent=300,fill='Yellow')     #create_arc is used to create an arc inside canvas\n",
    "    my=myl.create_text(14,10,text='Sales')                                               #create_text is used to create a string in a  canvas\n",
    "    myl.place(relx=0.7,rely=0.1)          \n",
    "    v1=IntVar()\n",
    "    v2=IntVar()\n",
    "    v3=IntVar()\n",
    "    v4=IntVar()\n",
    "    Label(z,text=\"enter your choice\",bg=\"white\").grid(row=0,column=0)\n",
    "    c1=Radiobutton(z,text=\"Execution\",variable=v1,bg='Light blue',anchor='w',value=0).grid(row=1) #it is used to create radiobutton\n",
    "    c2=Radiobutton(z,text=\"PythonPro\",variable=v2,bg='Light blue',anchor='w',value=1).grid(row=2)\n",
    "    c3=Radiobutton(z,text=\"PhysicsFun\",variable=v3,bg='Light blue',anchor='w',value=0).grid(row=3)\n",
    "    c4=Radiobutton(z,text=\"ToxinofSna\",variable=v4,bg='Light blue',anchor='w',value=0).grid(row=4)\n",
    "def myu():\n",
    "    z=Tk()\n",
    "    z.geometry('200x400')\n",
    "    z.title(\"Online Publication record window\")\n",
    "    z.configure(bg='light blue')\n",
    "    l=Listbox(z)                                            #This function is linked with a button named magazine when you click on that you will get latest magazines information\n",
    "    l.configure(bg='blue')\n",
    "    l.grid(row=1,column=3)\n",
    "    l.insert(0,'Femina')\n",
    "    l.insert(1,'Times')\n",
    "    l.insert(2,'Star dust')\n",
    "    l.insert(3,'Vogue')\n",
    "    b=Menu(z)\n",
    "    z.config(menu=b)\n",
    "    filemenu=Menu(b)\n",
    "    b.add_cascade(label='File',menu=filemenu)\n",
    "    filemenu.add_command(label='open')\n",
    "    filemenu.add_command(label='save as')\n",
    "    filemenu.add_separator()\n",
    "    filemenu.add_command(label='cut')\n",
    "    filemenu.add_command(label='copy')\n",
    "    editmenu=Menu(b)\n",
    "    b.add_cascade(label='Edit',menu=editmenu)\n",
    "    editmenu.add_command(label='Undo')\n",
    "    editmenu.add_command(label='Redo')\n",
    "    editmenu.add_separator()\n",
    "    editmenu.add_command(label='Add')\n",
    "    editmenu.add_command(label='Cancel')\n",
    "    myl=Canvas(z,width=200,height=150,bg='orange')                #Canvas will give you a canvas in a window\n",
    "    my=myl.create_arc(10,10,100,100,outline='blue',start=0,extent=300,fill='red')     #create_arc is used to create an arc inside canvas\n",
    "    my=myl.create_text(14,10,text='Sales')                                               #create_text is used to create a string in a  canvas\n",
    "    myl.place(relx=0.7,rely=0.1)\n",
    "    c1=Radiobutton(z,text=\"Femina\",variable=v1,bg='Light blue',anchor='w',value=0).grid(row=1) #it is used to create radiobutton\n",
    "    c2=Radiobutton(z,text=\"Times \",variable=v2,bg='Light blue',anchor='w',value=1).grid(row=2)\n",
    "    c3=Radiobutton(z,text=\"Stard \",variable=v3,bg='Light blue',anchor='w',value=0).grid(row=3)\n",
    "    c4=Radiobutton(z,text=\"Vogue \",variable=v4,bg='Light blue',anchor='w',value=0).grid(row=4)\n",
    "Button(m,text=\"Newspaper\",command=myf).grid(row=9,column=1)            #Here Button is used to add a button in GUI window\n",
    "Button(m,text=\"Books\",command=myh).grid(row=9,column=3)\n",
    "Button(m,text=\"Magazines\",command=myu).grid(row=9,column=7)\n",
    "mainloop()                                                            #mainloop()is used to end GUI methods and without nothing will be executed in GUI"
   ]
  },
  {
   "cell_type": "code",
   "execution_count": 7,
   "metadata": {},
   "outputs": [
    {
     "name": "stdout",
     "output_type": "stream",
     "text": [
      "('h',)\n",
      "('information_schema',)\n",
      "('mysql',)\n",
      "('news',)\n",
      "('performance_schema',)\n",
      "('publication',)\n",
      "('sakila',)\n",
      "('sys',)\n",
      "('temp2',)\n",
      "('world',)\n",
      "Connection Closed\n"
     ]
    }
   ],
   "source": [
    "#If you want to know information of old books,newspapers,magazines then you can gather that information from our database and In this There are four tables\n",
    "#This will use to create schema in database\n",
    "import mysql.connector                                         #we are importing mysql.connector so that we can create table in mysql by using python\n",
    "from mysql.connector import Error\n",
    "try:\n",
    "    con=mysql.connector.connect(host='Localhost',username='root',password='Aryan@123')#This method is used to connect database\n",
    "    cur=con.cursor()                                     #cursor method is used to run sql commands\n",
    "    cur.execute('create database Publication')           #execute is used to execute table in mysql\n",
    "    cur.execute('show databases')\n",
    "    for td in cur:\n",
    "        print(td)\n",
    "except Error as err:                             \n",
    "    print(err)\n",
    "finally:\n",
    "    if con.is_connected():\n",
    "        con.close()\n",
    "        cur.close()\n",
    "        print('Connection Closed')"
   ]
  },
  {
   "cell_type": "code",
   "execution_count": 5,
   "metadata": {},
   "outputs": [
    {
     "name": "stdout",
     "output_type": "stream",
     "text": [
      "1050 (42S01): Table 'materials' already exists\n",
      "Connection Closed\n"
     ]
    }
   ],
   "source": [
    "#First table will tell you what items are there\n",
    "import mysql.connector          #we are importing mysql.connector so that we can create table in mysql by using python\n",
    "from mysql.connector import Error\n",
    "try:\n",
    "    con=mysql.connector.connect(host='Localhost',username='root',password='Aryan@123',database='Publication')   \n",
    "    cur=con.cursor()\n",
    "    cur.execute('create table materials(items varchar(50),publ_date int,sale int)') #in this method we are creating tables in tables \n",
    "    cur.execute('show tables')\n",
    "    for tb in cur:\n",
    "        print(tb)\n",
    "except Error as err:\n",
    "    print(err)\n",
    "finally:\n",
    "    if con.is_connected():\n",
    "        con.close()\n",
    "        cur.close()\n",
    "        print('Connection Closed')"
   ]
  },
  {
   "cell_type": "code",
   "execution_count": 36,
   "metadata": {},
   "outputs": [
    {
     "name": "stdout",
     "output_type": "stream",
     "text": [
      "Connection Closed\n"
     ]
    }
   ],
   "source": [
    "import mysql.connector\n",
    "from mysql.connector import Error\n",
    "try:\n",
    "    con=mysql.connector.connect(host='Localhost',username='root',password='Aryan@123',database='Publication')\n",
    "    cur=con.cursor()\n",
    "    y=('insert into materials(items,publ_date,sale) values (%s,%s,%s)')   #insert is used to insert data items into columns of table\n",
    "    data=[('Newspapers',10-10-1965,2356000)]\n",
    "    x=('insert into materials(items,publ_date,sale) values (%s,%s,%s)')\n",
    "    datam=[('Magazines',12-11-2002,98000)]\n",
    "    u=('insert into materials(items,publ_date,sale) values (%s,%s,%s)')\n",
    "    datag=[('Books',13-1-1932,9459000)]\n",
    "    cur.executemany(u,datag)                     #executemany method is used to execute added values in columns of tables\n",
    "    con.commit()                                 #commit method is used to end table\n",
    "except Error as err:\n",
    "    print(err)\n",
    "finally:\n",
    "    con.close()\n",
    "    cur.close()\n",
    "    print('Connection Closed')"
   ]
  },
  {
   "cell_type": "code",
   "execution_count": 68,
   "metadata": {},
   "outputs": [
    {
     "name": "stdout",
     "output_type": "stream",
     "text": [
      "1050 (42S01): Table 'newspaper' already exists\n",
      "Connection Closed\n"
     ]
    }
   ],
   "source": [
    "# This table will give information regarding old  newspapers\n",
    "import mysql.connector\n",
    "from mysql.connector import Error\n",
    "try:\n",
    "    con=mysql.connector.connect(host='Localhost',username='root',password='Aryan@123',database='Publication')\n",
    "    cur=con.cursor()\n",
    "    cur.execute('create table newspaper(items varchar(50) primary key,purchase int)')# in this we have taken items as primary key\n",
    "    cur.execute('show tables')\n",
    "    for tb in cur:\n",
    "        print(tb)\n",
    "except Error as err:\n",
    "    print(err)\n",
    "finally:\n",
    "    if con.is_connected():\n",
    "        con.close()\n",
    "        cur.close()\n",
    "        print('Connection Closed')"
   ]
  },
  {
   "cell_type": "code",
   "execution_count": 53,
   "metadata": {},
   "outputs": [
    {
     "name": "stdout",
     "output_type": "stream",
     "text": [
      "Connection Closed\n"
     ]
    }
   ],
   "source": [
    "#In this we are inserting values in columns of newspaper table\n",
    "import mysql.connector\n",
    "from mysql.connector import Error\n",
    "try:\n",
    "    con=mysql.connector.connect(host='Localhost',username='root',password='Aryan@123',database='Publication')\n",
    "    cur=con.cursor()\n",
    "    y=('insert into newspaper(items,purchase) values (%s,%s)')\n",
    "    data=[('Amar Ujala',235678)]\n",
    "    z=('insert into newspaper(items,purchase) values (%s,%s)')\n",
    "    datam=[('The Tribune',389000),('punjab kesari',23000),('Dainik Bhaskar',980000),('Dainik jagran',56000),('Times of India',567890),('The Hindu',980707),('NavBharat Times',214567)]\n",
    "    cur.executemany(z,datam)\n",
    "    con.commit()\n",
    "except Error as err:\n",
    "    print(err)\n",
    "finally:\n",
    "    con.close()\n",
    "    cur.close()\n",
    "    print('Connection Closed')"
   ]
  },
  {
   "cell_type": "code",
   "execution_count": 23,
   "metadata": {},
   "outputs": [
    {
     "name": "stdout",
     "output_type": "stream",
     "text": [
      "1050 (42S01): Table 'magazine' already exists\n",
      "Connection Closed\n"
     ]
    }
   ],
   "source": [
    "#Here we are creating  magazine table\n",
    "import mysql.connector\n",
    "from mysql.connector import Error\n",
    "try:\n",
    "    con=mysql.connector.connect(host='Localhost',username='root',password='Aryan@123',database='Publication')\n",
    "    cur=con.cursor()\n",
    "    cur.execute('create table magazine(items varchar(50),purchase int)')\n",
    "    cur.execute('show tables')\n",
    "    for tb in cur:\n",
    "        print(tb)\n",
    "except Error as err:\n",
    "    print(err)\n",
    "finally:\n",
    "    if con.is_connected():\n",
    "        con.close()\n",
    "        cur.close()\n",
    "        print('Connection Closed')"
   ]
  },
  {
   "cell_type": "code",
   "execution_count": 79,
   "metadata": {},
   "outputs": [
    {
     "name": "stdout",
     "output_type": "stream",
     "text": [
      "Connection Closed\n"
     ]
    }
   ],
   "source": [
    "#In this we are inserting values in columns of magazine table\n",
    "import mysql.connector\n",
    "from mysql.connector import Error\n",
    "try:\n",
    "    con=mysql.connector.connect(host='Localhost',username='root',password='Aryan@123',database='Publication')\n",
    "    cur=con.cursor()\n",
    "    y=('insert into magazine(items,purchase) values (%s,%s)')\n",
    "    data=[('The Economist',23678),('Money',38000),('Frontline',26000),('Bloomberg Business Week',98000),('Entrepreneur',57000),('The New Yorker',56790),('Forbes',98070),('Fast Company',21456)]\n",
    "    cur.executemany(y,data)\n",
    "    con.commit()\n",
    "except Error as err:\n",
    "    print(err)\n",
    "finally:\n",
    "    con.close()\n",
    "    cur.close()\n",
    "    print('Connection Closed')"
   ]
  },
  {
   "cell_type": "code",
   "execution_count": 22,
   "metadata": {},
   "outputs": [
    {
     "name": "stdout",
     "output_type": "stream",
     "text": [
      "1050 (42S01): Table 'books' already exists\n",
      "connection closed\n"
     ]
    }
   ],
   "source": [
    "#In this we are creating table of old books\n",
    "import mysql.connector\n",
    "from mysql.connector import Error\n",
    "try:\n",
    "    con=mysql.connector.connect(host='Localhost',\n",
    "                                username='root',\n",
    "                                password='Aryan@123',\n",
    "                                database='Publication')\n",
    "    cur=con.cursor()\n",
    "    cur.execute('create table books(sales int,types varchar(50))')\n",
    "    cur.execute('show tables')\n",
    "    for tb in cur:\n",
    "        print(tb)\n",
    "except Error as err:\n",
    "    print(err)\n",
    "finally:\n",
    "    if con.is_connected():\n",
    "        cur.close()\n",
    "        con.close()\n",
    "        print('connection closed')"
   ]
  },
  {
   "cell_type": "code",
   "execution_count": 25,
   "metadata": {},
   "outputs": [
    {
     "name": "stdout",
     "output_type": "stream",
     "text": [
      "Connection Closed\n"
     ]
    }
   ],
   "source": [
    "#In this we are inserting values in columns of books\n",
    "import mysql.connector\n",
    "from mysql.connector import Error\n",
    "try:\n",
    "    con=mysql.connector.connect(host='Localhost',username='root',password='Aryan@123',database='Publication')\n",
    "    cur=con.cursor()\n",
    "    y=('insert into books(types,sales) values (%s,%s)')\n",
    "    data=[('Execution',124678),('Shall We Tell To The President',258000),('Toxine',236000),('Shock',98400),('Brain',5453000),('Fever',53790),('Terminal',912070),('Nagas',22456)]\n",
    "    cur.executemany(y,data)\n",
    "    con.commit()\n",
    "except Error as err:\n",
    "    print(err)\n",
    "finally:\n",
    "    con.close()\n",
    "    cur.close()\n",
    "    print('Connection Closed')"
   ]
  },
  {
   "cell_type": "code",
   "execution_count": null,
   "metadata": {},
   "outputs": [],
   "source": []
  }
 ],
 "metadata": {
  "kernelspec": {
   "display_name": "Python 3",
   "language": "python",
   "name": "python3"
  },
  "language_info": {
   "codemirror_mode": {
    "name": "ipython",
    "version": 3
   },
   "file_extension": ".py",
   "mimetype": "text/x-python",
   "name": "python",
   "nbconvert_exporter": "python",
   "pygments_lexer": "ipython3",
   "version": "3.8.3"
  }
 },
 "nbformat": 4,
 "nbformat_minor": 4
}
